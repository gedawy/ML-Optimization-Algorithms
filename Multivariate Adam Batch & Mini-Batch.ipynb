{
 "cells": [
  {
   "cell_type": "markdown",
   "metadata": {
    "id": "32b92576"
   },
   "source": [
    "<b>In this practical exam you are required to do the following:</b><b>\n",
    "1. Implement the Adam (Batch Version) algorithm to train a multivariable linear regression model.\n",
    "2. Update your implementation to work for mini-batch.\n",
    "</b>\n",
    "\n",
    "### Please fulfil the following requirements:\n",
    "<br>\n",
    "<b>\n",
    "    \n",
    "    1. Each implementation must be in a sepearate function. i.e. two separate functions.\n",
    "    2. Check each function on the data in the attached file.\n",
    "    3. You must obtain r2-score > 0.9 using each functiion.\n",
    "    4. You must plot the following curves.\n",
    "        - Loss vs. iterations.\n",
    "        - Loss vs. each parameter (i.e. loss vs theta 0, loss vs. theta 1 .... etc.).\n",
    "    5. Choose hyper parameters to obtain the required accuracy.\n",
    "    6. The implementation must be vectoried and calculations must be performed as matrix vector multiplications.\n",
    "    7. Apply the stop conditions (gradient < 0.001 and cost convergence check).                                            \n",
    "</b>\n",
    "    \n",
    "<b><i>Note: You are allowed to use the code you developed during practical sessions. However, it should be your own code.</i></b>"
   ]
  },
  {
   "cell_type": "code",
   "execution_count": 1,
   "metadata": {
    "id": "0cbf0144"
   },
   "outputs": [],
   "source": [
    "import numpy as np\n",
    "import matplotlib.pyplot as plt\n",
    "import pandas as pd\n",
    "%matplotlib inline"
   ]
  },
  {
   "cell_type": "code",
   "execution_count": 2,
   "metadata": {},
   "outputs": [
    {
     "data": {
      "text/plain": [
       "array([[ 73.,  80.,  75., 152.],\n",
       "       [ 93.,  88.,  93., 185.],\n",
       "       [ 89.,  91.,  90., 180.],\n",
       "       [ 96.,  98., 100., 196.],\n",
       "       [ 73.,  66.,  70., 142.],\n",
       "       [ 53.,  46.,  55., 101.],\n",
       "       [ 69.,  74.,  77., 149.],\n",
       "       [ 47.,  56.,  60., 115.],\n",
       "       [ 87.,  79.,  90., 175.],\n",
       "       [ 79.,  70.,  88., 164.],\n",
       "       [ 69.,  70.,  73., 141.],\n",
       "       [ 70.,  65.,  74., 141.],\n",
       "       [ 93.,  95.,  91., 184.],\n",
       "       [ 79.,  80.,  73., 152.],\n",
       "       [ 70.,  73.,  78., 148.],\n",
       "       [ 93.,  89.,  96., 192.],\n",
       "       [ 78.,  75.,  68., 147.],\n",
       "       [ 81.,  90.,  93., 183.],\n",
       "       [ 88.,  92.,  86., 177.],\n",
       "       [ 78.,  83.,  77., 159.],\n",
       "       [ 82.,  86.,  90., 177.],\n",
       "       [ 86.,  82.,  89., 175.],\n",
       "       [ 78.,  83.,  85., 175.],\n",
       "       [ 76.,  83.,  71., 149.],\n",
       "       [ 96.,  93.,  95., 192.]])"
      ]
     },
     "execution_count": 2,
     "metadata": {},
     "output_type": "execute_result"
    }
   ],
   "source": [
    "data = np.genfromtxt('MultipleLR.csv', dtype=float, delimiter=',')\n",
    "data"
   ]
  },
  {
   "cell_type": "code",
   "execution_count": 3,
   "metadata": {},
   "outputs": [
    {
     "data": {
      "text/plain": [
       "array([[ 73.,  80.,  75.],\n",
       "       [ 93.,  88.,  93.],\n",
       "       [ 89.,  91.,  90.],\n",
       "       [ 96.,  98., 100.],\n",
       "       [ 73.,  66.,  70.],\n",
       "       [ 53.,  46.,  55.],\n",
       "       [ 69.,  74.,  77.],\n",
       "       [ 47.,  56.,  60.],\n",
       "       [ 87.,  79.,  90.],\n",
       "       [ 79.,  70.,  88.],\n",
       "       [ 69.,  70.,  73.],\n",
       "       [ 70.,  65.,  74.],\n",
       "       [ 93.,  95.,  91.],\n",
       "       [ 79.,  80.,  73.],\n",
       "       [ 70.,  73.,  78.],\n",
       "       [ 93.,  89.,  96.],\n",
       "       [ 78.,  75.,  68.],\n",
       "       [ 81.,  90.,  93.],\n",
       "       [ 88.,  92.,  86.],\n",
       "       [ 78.,  83.,  77.],\n",
       "       [ 82.,  86.,  90.],\n",
       "       [ 86.,  82.,  89.],\n",
       "       [ 78.,  83.,  85.],\n",
       "       [ 76.,  83.,  71.],\n",
       "       [ 96.,  93.,  95.]])"
      ]
     },
     "execution_count": 3,
     "metadata": {},
     "output_type": "execute_result"
    }
   ],
   "source": [
    "X = data[:,:-1]\n",
    "X"
   ]
  },
  {
   "cell_type": "code",
   "execution_count": 4,
   "metadata": {},
   "outputs": [
    {
     "data": {
      "text/plain": [
       "array([[152.],\n",
       "       [185.],\n",
       "       [180.],\n",
       "       [196.],\n",
       "       [142.],\n",
       "       [101.],\n",
       "       [149.],\n",
       "       [115.],\n",
       "       [175.],\n",
       "       [164.],\n",
       "       [141.],\n",
       "       [141.],\n",
       "       [184.],\n",
       "       [152.],\n",
       "       [148.],\n",
       "       [192.],\n",
       "       [147.],\n",
       "       [183.],\n",
       "       [177.],\n",
       "       [159.],\n",
       "       [177.],\n",
       "       [175.],\n",
       "       [175.],\n",
       "       [149.],\n",
       "       [192.]])"
      ]
     },
     "execution_count": 4,
     "metadata": {},
     "output_type": "execute_result"
    }
   ],
   "source": [
    "Y = data[:,[-1]]\n",
    "Y"
   ]
  },
  {
   "cell_type": "code",
   "execution_count": 5,
   "metadata": {},
   "outputs": [],
   "source": [
    "X = np.insert(X,0,np.ones(len(X)), axis=1)"
   ]
  },
  {
   "cell_type": "code",
   "execution_count": 6,
   "metadata": {},
   "outputs": [
    {
     "data": {
      "text/plain": [
       "array([[  1.,  73.,  80.,  75.],\n",
       "       [  1.,  93.,  88.,  93.],\n",
       "       [  1.,  89.,  91.,  90.],\n",
       "       [  1.,  96.,  98., 100.],\n",
       "       [  1.,  73.,  66.,  70.],\n",
       "       [  1.,  53.,  46.,  55.],\n",
       "       [  1.,  69.,  74.,  77.],\n",
       "       [  1.,  47.,  56.,  60.],\n",
       "       [  1.,  87.,  79.,  90.],\n",
       "       [  1.,  79.,  70.,  88.],\n",
       "       [  1.,  69.,  70.,  73.],\n",
       "       [  1.,  70.,  65.,  74.],\n",
       "       [  1.,  93.,  95.,  91.],\n",
       "       [  1.,  79.,  80.,  73.],\n",
       "       [  1.,  70.,  73.,  78.],\n",
       "       [  1.,  93.,  89.,  96.],\n",
       "       [  1.,  78.,  75.,  68.],\n",
       "       [  1.,  81.,  90.,  93.],\n",
       "       [  1.,  88.,  92.,  86.],\n",
       "       [  1.,  78.,  83.,  77.],\n",
       "       [  1.,  82.,  86.,  90.],\n",
       "       [  1.,  86.,  82.,  89.],\n",
       "       [  1.,  78.,  83.,  85.],\n",
       "       [  1.,  76.,  83.,  71.],\n",
       "       [  1.,  96.,  93.,  95.]])"
      ]
     },
     "execution_count": 6,
     "metadata": {},
     "output_type": "execute_result"
    }
   ],
   "source": [
    "X"
   ]
  },
  {
   "cell_type": "code",
   "execution_count": 10,
   "metadata": {},
   "outputs": [],
   "source": [
    "def calCost(X,y,theta):\n",
    "  z = np.power(((X @ theta) - y), 2)\n",
    "  \n",
    "  return np.sum(z) / (2*len(X))"
   ]
  },
  {
   "cell_type": "markdown",
   "metadata": {},
   "source": [
    "## Multivariate Adam Batch"
   ]
  },
  {
   "cell_type": "code",
   "execution_count": 76,
   "metadata": {},
   "outputs": [],
   "source": [
    "m = len(X)\n",
    "n = X.shape[1]\n",
    "\n",
    "theta = np.ones((n,1))\n",
    "\n",
    "costs=[]\n",
    "preds=[]\n",
    "thetas=[]\n",
    "cost_iter = []\n",
    "thetas_iter = []\n",
    "\n",
    "#alpha = 0.0002\n",
    "epochs = 100\n",
    "iters = 1000\n",
    "\n",
    "def ADAM_Batch_GD(X, Y, theta, alpha, beta1, beta2, eps, iters, VT, mt):\n",
    "  for i in range(iters):\n",
    "    \n",
    "    #predict  \n",
    "    h = X @ theta\n",
    "    preds.append(h)\n",
    "\n",
    "    #error\n",
    "    error = h - Y\n",
    "\n",
    "    #calculate cost\n",
    "    J = (error.T @ error)/(2*m)\n",
    "    costs.append(J[0,0])\n",
    "\n",
    "    #calculate gradients\n",
    "    grad = (X.T @ error)/m\n",
    "    \n",
    "    #VT and mt and theta\n",
    "    mt = (beta1 * mt) + (1-beta1) * grad\n",
    "    VT = (beta2 * VT) + (1-beta2) * np.power(grad,2)\n",
    "    \n",
    "    #mt hat and VT hat for bias correction\n",
    "    mt_hat = mt/(1-np.power(beta1,i+1))\n",
    "    vt_hat = VT/(1-np.power(beta2,i+1))\n",
    "    \n",
    "    #Update thetas\n",
    "    theta = theta - ((alpha * mt_hat)/((np.sqrt(vt_hat))+ eps))\n",
    "\n",
    "    thetas.append(theta)\n",
    "\n",
    "    if i>0:\n",
    "      if(np.abs(costs[i-1] - costs[i]) < 0.001):\n",
    "        break\n",
    "      if (np.linalg.norm(grad) < 0.001):\n",
    "        break\n",
    "    \n",
    "  return theta, costs, preds, thetas"
   ]
  },
  {
   "cell_type": "code",
   "execution_count": 77,
   "metadata": {},
   "outputs": [],
   "source": [
    "beta1 = 0.5\n",
    "beta2 = 0.4\n",
    "alpha = 0.005\n",
    "eps = 0.01\n",
    "VT = np.zeros((n,1))\n",
    "mt = np.zeros((n,1))"
   ]
  },
  {
   "cell_type": "code",
   "execution_count": 78,
   "metadata": {},
   "outputs": [],
   "source": [
    "theta, costs, preds, thetas = ADAM_Batch_GD(X, Y, theta, alpha, beta1, beta2, eps, iters, VT, mt)"
   ]
  },
  {
   "cell_type": "code",
   "execution_count": 79,
   "metadata": {},
   "outputs": [
    {
     "data": {
      "text/plain": [
       "4.6928619097652895"
      ]
     },
     "execution_count": 79,
     "metadata": {},
     "output_type": "execute_result"
    }
   ],
   "source": [
    "costs[-1]"
   ]
  },
  {
   "cell_type": "code",
   "execution_count": 80,
   "metadata": {},
   "outputs": [
    {
     "data": {
      "image/png": "[encoded data removed]",
      "text/plain": [
       "<Figure size 432x288 with 1 Axes>"
      ]
     },
     "metadata": {
      "needs_background": "light"
     },
     "output_type": "display_data"
    }
   ],
   "source": [
    "#Plot epochs against Loss\n",
    "plt.plot(costs, 'b')\n",
    "plt.xlabel('Iteration')\n",
    "plt.ylabel('Loss')\n",
    "plt.show()"
   ]
  },
  {
   "cell_type": "code",
   "execution_count": 81,
   "metadata": {},
   "outputs": [
    {
     "data": {
      "text/plain": [
       "(123, 4, 1)"
      ]
     },
     "execution_count": 81,
     "metadata": {},
     "output_type": "execute_result"
    }
   ],
   "source": [
    "np.array(thetas).shape"
   ]
  },
  {
   "cell_type": "code",
   "execution_count": 82,
   "metadata": {},
   "outputs": [
    {
     "data": {
      "text/plain": [
       "array([[0.99500063, 0.99500001, 0.99500001, 0.99500001],\n",
       "       [0.98999772, 0.98999646, 0.98999646, 0.98999646],\n",
       "       [0.98499006, 0.98498816, 0.98498816, 0.98498814],\n",
       "       [0.97997752, 0.97997498, 0.97997498, 0.97997493],\n",
       "       [0.97496071, 0.97495751, 0.97495751, 0.97495742],\n",
       "       [0.9699405 , 0.96993663, 0.96993664, 0.96993651],\n",
       "       [0.96491777, 0.96491322, 0.96491323, 0.96491304],\n",
       "       [0.95989319, 0.95988795, 0.95988796, 0.95988772],\n",
       "       [0.95486726, 0.95486133, 0.95486134, 0.95486104],\n",
       "       [0.94984032, 0.94983368, 0.9498337 , 0.94983333],\n",
       "       [0.94481257, 0.9448052 , 0.94480522, 0.94480479],\n",
       "       [0.93978413, 0.93977602, 0.93977604, 0.93977554],\n",
       "       [0.93475505, 0.93474619, 0.93474622, 0.93474565],\n",
       "       [0.92972538, 0.92971575, 0.92971578, 0.92971513],\n",
       "       [0.92469511, 0.9246847 , 0.92468474, 0.92468401],\n",
       "       [0.91966424, 0.91965304, 0.91965308, 0.91965227],\n",
       "       [0.91463276, 0.91462075, 0.91462079, 0.9146199 ],\n",
       "       [0.90960065, 0.90958781, 0.90958785, 0.90958688],\n",
       "       [0.90456789, 0.9045542 , 0.90455425, 0.90455318],\n",
       "       [0.89953444, 0.89951989, 0.89951995, 0.89951878],\n",
       "       [0.89450029, 0.89448486, 0.89448492, 0.89448365],\n",
       "       [0.8894654 , 0.88944907, 0.88944913, 0.88944776],\n",
       "       [0.88442974, 0.88441249, 0.88441256, 0.88441108],\n",
       "       [0.87939328, 0.87937509, 0.87937516, 0.87937357],\n",
       "       [0.87435598, 0.87433682, 0.8743369 , 0.87433519],\n",
       "       [0.8693178 , 0.86929765, 0.86929773, 0.8692959 ],\n",
       "       [0.86427869, 0.86425753, 0.86425762, 0.86425566],\n",
       "       [0.85923862, 0.85921642, 0.85921651, 0.85921441],\n",
       "       [0.85419753, 0.85417426, 0.85417436, 0.85417212],\n",
       "       [0.84915536, 0.849131  , 0.84913111, 0.84912872],\n",
       "       [0.84411207, 0.84408658, 0.84408669, 0.84408415],\n",
       "       [0.83906759, 0.83904094, 0.83904106, 0.83903835],\n",
       "       [0.83402185, 0.83399401, 0.83399414, 0.83399124],\n",
       "       [0.82897478, 0.82894571, 0.82894585, 0.82894277],\n",
       "       [0.8239263 , 0.82389596, 0.82389611, 0.82389283],\n",
       "       [0.81887632, 0.81884468, 0.81884483, 0.81884134],\n",
       "       [0.81382474, 0.81379175, 0.81379192, 0.8137882 ],\n",
       "       [0.80877147, 0.80873709, 0.80873726, 0.8087333 ],\n",
       "       [0.80371639, 0.80368056, 0.80368074, 0.80367653],\n",
       "       [0.79865936, 0.79862203, 0.79862223, 0.79861774],\n",
       "       [0.79360026, 0.79356136, 0.79356157, 0.79355679],\n",
       "       [0.78853891, 0.7884984 , 0.78849862, 0.78849352],\n",
       "       [0.78347515, 0.78343294, 0.78343318, 0.78342774],\n",
       "       [0.77840877, 0.77836481, 0.77836506, 0.77835925],\n",
       "       [0.77333957, 0.77329376, 0.77329403, 0.77328781],\n",
       "       [0.76826727, 0.76821953, 0.76821982, 0.76821317],\n",
       "       [0.76319161, 0.76314183, 0.76314215, 0.76313501],\n",
       "       [0.75811224, 0.75806033, 0.75806067, 0.75805301],\n",
       "       [0.75302881, 0.75297464, 0.752975  , 0.75296676],\n",
       "       [0.74794086, 0.7478843 , 0.74788469, 0.7478758 ],\n",
       "       [0.7428479 , 0.7427888 , 0.74278922, 0.74277961],\n",
       "       [0.73774933, 0.73768752, 0.73768798, 0.73767756],\n",
       "       [0.73264446, 0.73257973, 0.73258022, 0.7325689 ],\n",
       "       [0.72753244, 0.72746456, 0.7274651 , 0.72745275],\n",
       "       [0.72241227, 0.72234098, 0.72234158, 0.72232804],\n",
       "       [0.71728275, 0.71720773, 0.71720838, 0.71719348],\n",
       "       [0.71214243, 0.71206327, 0.71206399, 0.71204752],\n",
       "       [0.70698953, 0.70690576, 0.70690656, 0.70688825],\n",
       "       [0.70182198, 0.70173297, 0.70173387, 0.70171341],\n",
       "       [0.69663745, 0.69654239, 0.69654339, 0.69652046],\n",
       "       [0.69143389, 0.69133161, 0.69133274, 0.6913071 ],\n",
       "       [0.6862114 , 0.68610018, 0.68610141, 0.68607339],\n",
       "       [0.68097992, 0.68085681, 0.68085804, 0.68083042],\n",
       "       [0.67579363, 0.67565255, 0.67565318, 0.67564082],\n",
       "       [0.67094065, 0.67076434, 0.67076093, 0.67085073],\n",
       "       [0.66789524, 0.66763287, 0.66760849, 0.66820488],\n",
       "       [0.66843071, 0.66808612, 0.66803265, 0.66924572],\n",
       "       [0.67094294, 0.67055543, 0.67047935, 0.67214019],\n",
       "       [0.67388664, 0.67344821, 0.67334047, 0.67558812],\n",
       "       [0.67387287, 0.67324253, 0.67307175, 0.67676596],\n",
       "       [0.67155654, 0.67073903, 0.67052308, 0.67553345],\n",
       "       [0.66987756, 0.66873447, 0.6684323 , 0.67586526],\n",
       "       [0.67141845, 0.67003141, 0.66962887, 0.67881363],\n",
       "       [0.67119821, 0.6693472 , 0.66879948, 0.68124609],\n",
       "       [0.6688048 , 0.66652761, 0.66588806, 0.68206409],\n",
       "       [0.66981517, 0.66710185, 0.66629866, 0.68528565],\n",
       "       [0.66830354, 0.66503683, 0.66409692, 0.68753551],\n",
       "       [0.66723794, 0.66310682, 0.66194929, 0.69105774],\n",
       "       [0.66771381, 0.66243651, 0.66090504, 0.69530081],\n",
       "       [0.66502543, 0.65920759, 0.65758224, 0.69767443],\n",
       "       [0.66625796, 0.65999662, 0.65820417, 0.70130678],\n",
       "       [0.66394062, 0.65731694, 0.6554535 , 0.70206443],\n",
       "       [0.66419049, 0.65711125, 0.65510935, 0.70516737],\n",
       "       [0.66273324, 0.65503408, 0.65289893, 0.70828935],\n",
       "       [0.66161614, 0.65298255, 0.65064825, 0.71233333],\n",
       "       [0.66130066, 0.65133322, 0.64868747, 0.71684411],\n",
       "       [0.65878658, 0.64787652, 0.64511372, 0.72150259],\n",
       "       [0.66057645, 0.64931008, 0.64639732, 0.72574231],\n",
       "       [0.65774005, 0.64630221, 0.64336725, 0.72434359],\n",
       "       [0.65713898, 0.64547125, 0.642489  , 0.7261083 ],\n",
       "       [0.65845033, 0.6466084 , 0.6435701 , 0.72947037],\n",
       "       [0.65612624, 0.64407349, 0.64100833, 0.72940566],\n",
       "       [0.65569603, 0.6433756 , 0.64025977, 0.73187905],\n",
       "       [0.65557082, 0.64286848, 0.63967906, 0.73538245],\n",
       "       [0.65281987, 0.63980009, 0.63658244, 0.73667791],\n",
       "       [0.65412126, 0.64097744, 0.63772531, 0.74006259],\n",
       "       [0.65195084, 0.63859953, 0.63532895, 0.74058352],\n",
       "       [0.65147861, 0.63788573, 0.63458526, 0.74335916],\n",
       "       [0.65035085, 0.63637082, 0.63303648, 0.74684462],\n",
       "       [0.6477709 , 0.63329734, 0.62994205, 0.75064336],\n",
       "       [0.64903578, 0.63445483, 0.63108584, 0.75468011],\n",
       "       [0.64617567, 0.63146406, 0.62809358, 0.75340089],\n",
       "       [0.64603378, 0.63123675, 0.62786988, 0.75550658],\n",
       "       [0.64651229, 0.63163549, 0.62827867, 0.75873902],\n",
       "       [0.64383664, 0.6288093 , 0.62545732, 0.75844119],\n",
       "       [0.64439706, 0.62933304, 0.62599532, 0.76123082],\n",
       "       [0.64295528, 0.62774165, 0.62442389, 0.76341414],\n",
       "       [0.64085803, 0.62539347, 0.62210689, 0.76643804],\n",
       "       [0.64141182, 0.62593828, 0.62271282, 0.77039246],\n",
       "       [0.63847123, 0.62287867, 0.61966582, 0.76937743],\n",
       "       [0.63910226, 0.62352961, 0.62034664, 0.77196965],\n",
       "       [0.638328  , 0.62271353, 0.61957822, 0.77445706],\n",
       "       [0.63560721, 0.6198376 , 0.61673513, 0.77554147],\n",
       "       [0.63694883, 0.62127069, 0.61821334, 0.77887616],\n",
       "       [0.6346767 , 0.61893115, 0.61590356, 0.77886508],\n",
       "       [0.63396567, 0.61823128, 0.61526847, 0.78124049],\n",
       "       [0.63309386, 0.61737971, 0.61452454, 0.78456244],\n",
       "       [0.63012622, 0.61425218, 0.61144734, 0.78615976],\n",
       "       [0.63161921, 0.61589929, 0.61315712, 0.78959661],\n",
       "       [0.6292395 , 0.6134828 , 0.6107774 , 0.78916723],\n",
       "       [0.62840674, 0.61271317, 0.61008784, 0.79122565],\n",
       "       [0.62822337, 0.61269896, 0.61020478, 0.79453892],\n",
       "       [0.62530181, 0.60970459, 0.6072571 , 0.79427502]])"
      ]
     },
     "execution_count": 82,
     "metadata": {},
     "output_type": "execute_result"
    }
   ],
   "source": [
    "thetas_plot = np.array(thetas).reshape(-1,n)\n",
    "thetas_plot"
   ]
  },
  {
   "cell_type": "code",
   "execution_count": 83,
   "metadata": {},
   "outputs": [
    {
     "data": {
      "image/png": "[encoded data removed]",
      "text/plain": [
       "<Figure size 432x288 with 1 Axes>"
      ]
     },
     "metadata": {
      "needs_background": "light"
     },
     "output_type": "display_data"
    }
   ],
   "source": [
    "plt.plot(thetas_plot[:,0],costs,'b')\n",
    "plt.xlabel('Theta0')\n",
    "plt.ylabel('Loss')\n",
    "plt.show()"
   ]
  },
  {
   "cell_type": "code",
   "execution_count": 84,
   "metadata": {},
   "outputs": [
    {
     "data": {
      "image/png": "[encoded data removed]",
      "text/plain": [
       "<Figure size 432x288 with 1 Axes>"
      ]
     },
     "metadata": {
      "needs_background": "light"
     },
     "output_type": "display_data"
    }
   ],
   "source": [
    "plt.plot(thetas_plot[:,1],costs,'b')\n",
    "plt.xlabel('Theta1')\n",
    "plt.ylabel('Loss')\n",
    "plt.show()"
   ]
  },
  {
   "cell_type": "code",
   "execution_count": 85,
   "metadata": {},
   "outputs": [
    {
     "data": {
      "image/png": "[encoded data removed]",
      "text/plain": [
       "<Figure size 432x288 with 1 Axes>"
      ]
     },
     "metadata": {
      "needs_background": "light"
     },
     "output_type": "display_data"
    }
   ],
   "source": [
    "plt.plot(thetas_plot[:,2],costs,'b')\n",
    "plt.xlabel('Theta2')\n",
    "plt.ylabel('Loss')\n",
    "plt.show()"
   ]
  },
  {
   "cell_type": "code",
   "execution_count": 86,
   "metadata": {},
   "outputs": [
    {
     "data": {
      "image/png": "[encoded data removed]",
      "text/plain": [
       "<Figure size 432x288 with 1 Axes>"
      ]
     },
     "metadata": {
      "needs_background": "light"
     },
     "output_type": "display_data"
    }
   ],
   "source": [
    "plt.plot(thetas_plot[:,3],costs,'b')\n",
    "plt.xlabel('Theta3')\n",
    "plt.ylabel('Loss')\n",
    "plt.show()"
   ]
  },
  {
   "cell_type": "code",
   "execution_count": 87,
   "metadata": {},
   "outputs": [
    {
     "data": {
      "text/plain": [
       "array([[153.28493135],\n",
       "       [184.63403031],\n",
       "       [181.63415819],\n",
       "       [198.09564022],\n",
       "       [140.81195686],\n",
       "       [104.55859777],\n",
       "       [148.79112044],\n",
       "       [110.94431632],\n",
       "       [173.12766382],\n",
       "       [161.19616316],\n",
       "       [143.18499196],\n",
       "       [141.55268607],\n",
       "       [187.29627997],\n",
       "       [155.35460885],\n",
       "       [149.58784295],\n",
       "       [187.62411247],\n",
       "       [147.73724367],\n",
       "       [178.53208943],\n",
       "       [178.45461062],\n",
       "       [159.74377564],\n",
       "       [174.32994056],\n",
       "       [173.5454555 ],\n",
       "       [166.0979758 ],\n",
       "       [153.75871634],\n",
       "       [191.08797962]])"
      ]
     },
     "execution_count": 87,
     "metadata": {},
     "output_type": "execute_result"
    }
   ],
   "source": [
    "h_hat_b = X @ theta\n",
    "h_hat_b"
   ]
  },
  {
   "cell_type": "code",
   "execution_count": 88,
   "metadata": {},
   "outputs": [
    {
     "data": {
      "text/plain": [
       "0.9830779559081188"
      ]
     },
     "execution_count": 88,
     "metadata": {},
     "output_type": "execute_result"
    }
   ],
   "source": [
    "from sklearn import metrics\n",
    "metrics.r2_score(Y,h_hat_b)"
   ]
  },
  {
   "cell_type": "code",
   "execution_count": null,
   "metadata": {},
   "outputs": [],
   "source": []
  },
  {
   "cell_type": "markdown",
   "metadata": {},
   "source": [
    "## Multivariate Adam MiniBatch"
   ]
  },
  {
   "cell_type": "code",
   "execution_count": 90,
   "metadata": {},
   "outputs": [],
   "source": [
    "m = len(X)\n",
    "n = X.shape[1]\n",
    "\n",
    "theta = np.ones((n,1))\n",
    "\n",
    "costs=[]\n",
    "preds=[]\n",
    "thetas=[]\n",
    "cost_iter = []\n",
    "thetas_iter = []\n",
    "\n",
    "#alpha = 0.0002\n",
    "epochs = 100\n",
    "\n",
    "def Adam_minibatch_GD(X,Y, theta, alpha, iters, batch_size, beta1, beta2, eps, VT, mt):\n",
    "  m = len(X)\n",
    "  cost_hist = []\n",
    "  num_batch = int(m/batch_size)\n",
    "  \n",
    "  for i in range(iters):\n",
    "    cst = 0.0\n",
    "    \n",
    "    idxs = np.random.permutation(m)\n",
    "    X = X[idxs]\n",
    "    Y = Y[idxs]\n",
    "    \n",
    "    for j in range(0,m,batch_size):\n",
    "      x_i = X[j:j+batch_size]\n",
    "      y_i = Y[j:j+batch_size]\n",
    "       \n",
    "      #hypothesis\n",
    "      h = x_i @ theta\n",
    "      preds.append(h)\n",
    "      #error\n",
    "      error = h - y_i\n",
    "      #gradient\n",
    "      grad = (x_i.T @ error)/len(x_i)\n",
    "      \n",
    "      mt = (beta1 * mt) + (1-beta1) * grad\n",
    "      VT = (beta2 * VT) + (1-beta2) * np.power(grad,2)\n",
    "    \n",
    "      #mt hat and VT hat for bias correction\n",
    "      mt_hat = mt/(1-np.power(beta1,i+1))\n",
    "      vt_hat = VT/(1-np.power(beta2,i+1))\n",
    "    \n",
    "      #Update thetas\n",
    "      theta = theta - ((alpha * mt_hat)/((np.sqrt(vt_hat))+ eps))\n",
    "      \n",
    "      #append cost\n",
    "      cost_iter.append(calCost(x_i,y_i,theta))\n",
    "      #append Theta\n",
    "      thetas_iter.append(theta)\n",
    "      \n",
    "    #append\n",
    "    cost_hist.append(calCost(X,Y,theta))\n",
    "    thetas.append(theta)       \n",
    "    preds.append(h)  \n",
    "    #stopping condition\n",
    "    if i>0:\n",
    "      if(np.abs(cost_hist[-2] - cost_hist[-1]) < 0.01):\n",
    "        break\n",
    "      if (np.linalg.norm(grad) < 0.001):\n",
    "        break\n",
    "        \n",
    "  return theta, cost_hist, cost_iter, preds, thetas, thetas_iter"
   ]
  },
  {
   "cell_type": "code",
   "execution_count": 91,
   "metadata": {},
   "outputs": [],
   "source": [
    "beta1 = 0.5\n",
    "beta2 = 0.4\n",
    "alpha = 0.005\n",
    "eps = 0.01\n",
    "VT = np.zeros((n,1))\n",
    "mt = np.zeros((n,1))"
   ]
  },
  {
   "cell_type": "code",
   "execution_count": 92,
   "metadata": {},
   "outputs": [],
   "source": [
    "theta_opt, cost_hist, cost_it, hs, thetas, thetas_it = Adam_minibatch_GD(X, Y, theta, alpha, 1000, 5, beta1, beta2, eps, VT, mt)"
   ]
  },
  {
   "cell_type": "code",
   "execution_count": 93,
   "metadata": {},
   "outputs": [
    {
     "data": {
      "image/png": "[encoded data removed]",
      "text/plain": [
       "<Figure size 432x288 with 1 Axes>"
      ]
     },
     "metadata": {
      "needs_background": "light"
     },
     "output_type": "display_data"
    }
   ],
   "source": [
    "#Plot epochs against Loss\n",
    "plt.plot(cost_it, 'r')\n",
    "plt.xlabel('Iteration')\n",
    "plt.ylabel('Loss')\n",
    "plt.show()"
   ]
  },
  {
   "cell_type": "code",
   "execution_count": 94,
   "metadata": {},
   "outputs": [
    {
     "data": {
      "text/plain": [
       "5.621473371632544"
      ]
     },
     "execution_count": 94,
     "metadata": {},
     "output_type": "execute_result"
    }
   ],
   "source": [
    "cost_hist[-1]"
   ]
  },
  {
   "cell_type": "code",
   "execution_count": 95,
   "metadata": {},
   "outputs": [
    {
     "data": {
      "text/plain": [
       "array([[0.99500065, 0.99500001, 0.99500001, 0.99500001],\n",
       "       [0.98866292, 0.98864685, 0.98864719, 0.98863215],\n",
       "       [0.98161879, 0.98159299, 0.98156932, 0.98156915],\n",
       "       [0.97433398, 0.97444056, 0.97442291, 0.97443972],\n",
       "       [0.96679887, 0.96695375, 0.96693473, 0.96697665],\n",
       "       [0.96075371, 0.9609137 , 0.96090502, 0.96093417],\n",
       "       [0.95464518, 0.95479358, 0.9548049 , 0.95482132],\n",
       "       [0.94855604, 0.94873305, 0.94875206, 0.9487257 ],\n",
       "       [0.94237386, 0.94254474, 0.94255657, 0.94252508],\n",
       "       [0.93617774, 0.93634545, 0.93634871, 0.93636381],\n",
       "       [0.93057218, 0.93069952, 0.93070766, 0.93074541],\n",
       "       [0.92505625, 0.92524952, 0.92527573, 0.92526281],\n",
       "       [0.91949765, 0.91970504, 0.91972867, 0.91969127],\n",
       "       [0.91395937, 0.91421888, 0.91424231, 0.91422848],\n",
       "       [0.908405  , 0.90865968, 0.9086934 , 0.90865576],\n",
       "       [0.90311493, 0.90340606, 0.90343287, 0.90342379],\n",
       "       [0.89784411, 0.89815618, 0.89818293, 0.89817466],\n",
       "       [0.89252819, 0.89281515, 0.892847  , 0.89283456],\n",
       "       [0.88715283, 0.88740006, 0.88743422, 0.88742749],\n",
       "       [0.88189476, 0.88219435, 0.88223365, 0.88216455],\n",
       "       [0.8767297 , 0.87705017, 0.87708557, 0.87699143],\n",
       "       [0.87156469, 0.87192444, 0.8719295 , 0.87186773],\n",
       "       [0.86638726, 0.8667518 , 0.86675985, 0.86670772],\n",
       "       [0.86120329, 0.86152933, 0.86156677, 0.86150655],\n",
       "       [0.85606361, 0.85644249, 0.85647902, 0.85640233],\n",
       "       [0.85094601, 0.85133727, 0.85135805, 0.85129917],\n",
       "       [0.84583881, 0.84624384, 0.84625708, 0.84618492],\n",
       "       [0.84068547, 0.84108089, 0.84109869, 0.84102367],\n",
       "       [0.83559144, 0.83598992, 0.83603818, 0.83593766],\n",
       "       [0.83052893, 0.83096369, 0.8309996 , 0.83088008],\n",
       "       [0.82543188, 0.82586209, 0.82589172, 0.82577061],\n",
       "       [0.82038352, 0.82084201, 0.82086821, 0.82072599],\n",
       "       [0.81528823, 0.81576508, 0.8157813 , 0.81563671],\n",
       "       [0.81021957, 0.8107388 , 0.81073872, 0.81062594],\n",
       "       [0.80511173, 0.80561833, 0.80562372, 0.8055147 ],\n",
       "       [0.80003473, 0.80055976, 0.80055652, 0.80046159],\n",
       "       [0.79495696, 0.79547958, 0.7954644 , 0.79538797],\n",
       "       [0.78988157, 0.79038671, 0.79038785, 0.79027338],\n",
       "       [0.78481102, 0.7853068 , 0.78532091, 0.78518875],\n",
       "       [0.77970901, 0.78021061, 0.78021149, 0.78011425],\n",
       "       [0.7746983 , 0.77527079, 0.77526313, 0.77514146],\n",
       "       [0.76964333, 0.7702457 , 0.77023316, 0.7701229 ],\n",
       "       [0.76452366, 0.76512351, 0.765108  , 0.76500483],\n",
       "       [0.75943292, 0.76002411, 0.76004067, 0.75990306],\n",
       "       [0.75429956, 0.75487242, 0.75490101, 0.75475985],\n",
       "       [0.74915021, 0.74972641, 0.74975809, 0.74962692],\n",
       "       [0.74414413, 0.74475753, 0.74479607, 0.74462996],\n",
       "       [0.73908139, 0.73971933, 0.73975318, 0.73958324],\n",
       "       [0.73400912, 0.73463236, 0.73465886, 0.73448049],\n",
       "       [0.72892422, 0.72953885, 0.72958015, 0.72938185],\n",
       "       [0.72378653, 0.72438229, 0.72443512, 0.72423017],\n",
       "       [0.718685  , 0.71936953, 0.71938962, 0.71921189],\n",
       "       [0.71367078, 0.71435742, 0.71438603, 0.71417052],\n",
       "       [0.70856164, 0.70925197, 0.70929637, 0.70904575],\n",
       "       [0.7033959 , 0.70408489, 0.70413745, 0.70386642],\n",
       "       [0.69819586, 0.6988792 , 0.69893699, 0.69865442],\n",
       "       [0.69300386, 0.69366239, 0.69372581, 0.69343787],\n",
       "       [0.68790279, 0.68855133, 0.68862464, 0.68833241],\n",
       "       [0.68275096, 0.68339629, 0.68348291, 0.68316599],\n",
       "       [0.67756281, 0.67820179, 0.67829378, 0.67796397],\n",
       "       [0.67254871, 0.67316579, 0.67324832, 0.6729221 ],\n",
       "       [0.66752783, 0.66809533, 0.66818786, 0.66783888],\n",
       "       [0.66499468, 0.6649927 , 0.66531246, 0.66512039],\n",
       "       [0.66668192, 0.66666638, 0.6668216 , 0.66704769],\n",
       "       [0.67012249, 0.67008856, 0.67021503, 0.67059259],\n",
       "       [0.67033866, 0.67061991, 0.67081589, 0.67142181],\n",
       "       [0.67224174, 0.67297246, 0.67316278, 0.67397575],\n",
       "       [0.67426757, 0.67448885, 0.67471727, 0.67593492],\n",
       "       [0.67779918, 0.67792076, 0.67815518, 0.67945632],\n",
       "       [0.6760429 , 0.6760153 , 0.67623946, 0.67776265],\n",
       "       [0.67342122, 0.6732614 , 0.67350833, 0.67529305],\n",
       "       [0.67058164, 0.67028005, 0.67054133, 0.67251553],\n",
       "       [0.67119438, 0.67057518, 0.67087477, 0.67318648],\n",
       "       [0.6686724 , 0.6679815 , 0.66828242, 0.67084001],\n",
       "       [0.67030235, 0.66956301, 0.66976303, 0.67274443],\n",
       "       [0.67086521, 0.66996614, 0.6698752 , 0.67375058],\n",
       "       [0.67045336, 0.66908563, 0.66882565, 0.67368111],\n",
       "       [0.67056875, 0.67042152, 0.6698935 , 0.67552968],\n",
       "       [0.67217557, 0.67271756, 0.67196708, 0.67869096],\n",
       "       [0.67561188, 0.67639286, 0.67557772, 0.68274748],\n",
       "       [0.67331005, 0.6739528 , 0.6732321 , 0.68078641],\n",
       "       [0.67146824, 0.67201815, 0.67120622, 0.67963666],\n",
       "       [0.66794958, 0.66844804, 0.66760946, 0.67631947],\n",
       "       [0.66432766, 0.66463878, 0.66367644, 0.67273691],\n",
       "       [0.66677954, 0.66700236, 0.66603642, 0.6752844 ],\n",
       "       [0.66913791, 0.66960229, 0.66874434, 0.67814712],\n",
       "       [0.66992519, 0.67015446, 0.66930802, 0.67916549],\n",
       "       [0.66722213, 0.66723236, 0.66642801, 0.67649057],\n",
       "       [0.668234  , 0.66787193, 0.66712595, 0.67757669],\n",
       "       [0.67129142, 0.67078391, 0.66999868, 0.68073231],\n",
       "       [0.67262938, 0.67184996, 0.6708337 , 0.68236556],\n",
       "       [0.67309013, 0.67219681, 0.67117016, 0.68370428],\n",
       "       [0.67029955, 0.66936913, 0.66831408, 0.68117751],\n",
       "       [0.66651045, 0.66574673, 0.66474401, 0.67812243],\n",
       "       [0.6680527 , 0.66724074, 0.66630816, 0.68009211],\n",
       "       [0.66709269, 0.66585725, 0.66498926, 0.67920377],\n",
       "       [0.6695891 , 0.66830784, 0.66741856, 0.68188639],\n",
       "       [0.67019715, 0.66905907, 0.66827067, 0.68330971],\n",
       "       [0.66870642, 0.66837732, 0.66744419, 0.68324551],\n",
       "       [0.66966057, 0.66839382, 0.66754483, 0.68461829],\n",
       "       [0.67296214, 0.67158264, 0.6707456 , 0.68797815],\n",
       "       [0.67246017, 0.67077371, 0.66996218, 0.68751062],\n",
       "       [0.67192658, 0.6704087 , 0.66959974, 0.68758812],\n",
       "       [0.66877226, 0.66735003, 0.6665381 , 0.68472031],\n",
       "       [0.66488979, 0.66334324, 0.6625454 , 0.68084823],\n",
       "       [0.66145383, 0.66045613, 0.65959865, 0.67816369],\n",
       "       [0.65983436, 0.65939565, 0.65825961, 0.67779289],\n",
       "       [0.66214126, 0.66187681, 0.66039272, 0.68060581],\n",
       "       [0.665829  , 0.66564871, 0.66402246, 0.68450555],\n",
       "       [0.67005228, 0.66999005, 0.66826785, 0.68887134],\n",
       "       [0.67138195, 0.67114966, 0.66937272, 0.69085817],\n",
       "       [0.66885115, 0.66856896, 0.66683713, 0.68863264],\n",
       "       [0.66918333, 0.66906729, 0.66734158, 0.68954419],\n",
       "       [0.67022573, 0.66961783, 0.66824632, 0.69087276],\n",
       "       [0.66755405, 0.6667    , 0.6654128 , 0.68819305],\n",
       "       [0.66854057, 0.6672649 , 0.66601877, 0.68914748],\n",
       "       [0.66805168, 0.66666747, 0.6653187 , 0.68932161],\n",
       "       [0.66533926, 0.66378533, 0.66235927, 0.68683309],\n",
       "       [0.66180952, 0.66005647, 0.65860851, 0.6834439 ],\n",
       "       [0.66264404, 0.66089869, 0.65951966, 0.68480367],\n",
       "       [0.66546557, 0.66368628, 0.66229503, 0.68797   ],\n",
       "       [0.66889599, 0.66660178, 0.66525751, 0.69154759],\n",
       "       [0.66850624, 0.66639501, 0.66524555, 0.69332871],\n",
       "       [0.66842166, 0.66566185, 0.66451426, 0.69431155],\n",
       "       [0.66526554, 0.66238412, 0.66123619, 0.69125436],\n",
       "       [0.66629482, 0.6636606 , 0.66264233, 0.69291709],\n",
       "       [0.66766082, 0.66541103, 0.66422874, 0.69497652],\n",
       "       [0.67084217, 0.66838002, 0.66724625, 0.6984101 ],\n",
       "       [0.66819224, 0.66560467, 0.66450584, 0.69586983],\n",
       "       [0.66457672, 0.66187195, 0.66080862, 0.69227297],\n",
       "       [0.66447049, 0.6613386 , 0.66057121, 0.69224181],\n",
       "       [0.66203888, 0.65860562, 0.65799874, 0.68988432],\n",
       "       [0.66206013, 0.65846182, 0.657842  , 0.69019483],\n",
       "       [0.66401275, 0.66046983, 0.65946439, 0.69262688],\n",
       "       [0.66732905, 0.6638932 , 0.66272714, 0.69631336],\n",
       "       [0.66490128, 0.66154257, 0.66030194, 0.69422936],\n",
       "       [0.66327187, 0.65997325, 0.65872822, 0.69305802],\n",
       "       [0.66571738, 0.66248152, 0.66120095, 0.69575735],\n",
       "       [0.66821403, 0.66438433, 0.66322795, 0.69802113],\n",
       "       [0.66702226, 0.66321779, 0.66210505, 0.69744238],\n",
       "       [0.66610128, 0.66215806, 0.66084472, 0.69699997],\n",
       "       [0.66862007, 0.66472092, 0.66340236, 0.69991011],\n",
       "       [0.66680445, 0.6629341 , 0.66172599, 0.69858151],\n",
       "       [0.66433631, 0.65998291, 0.65886733, 0.69619018],\n",
       "       [0.66059736, 0.65604719, 0.65496731, 0.69260824],\n",
       "       [0.65863678, 0.65424263, 0.65295848, 0.69117005],\n",
       "       [0.65895114, 0.65526297, 0.65391879, 0.69306274],\n",
       "       [0.66212349, 0.65858926, 0.65723416, 0.69655946],\n",
       "       [0.66609889, 0.66230135, 0.66099348, 0.70050781],\n",
       "       [0.66828046, 0.66391342, 0.66234587, 0.70301983],\n",
       "       [0.66663004, 0.66194577, 0.66041752, 0.70196729],\n",
       "       [0.66444221, 0.65940064, 0.65781239, 0.70064721],\n",
       "       [0.66693127, 0.6619212 , 0.66031139, 0.70355251],\n",
       "       [0.66599543, 0.66058139, 0.65890052, 0.70281058],\n",
       "       [0.66274207, 0.65724342, 0.6555426 , 0.69967465],\n",
       "       [0.66403371, 0.65850039, 0.65675011, 0.70122041],\n",
       "       [0.66260635, 0.65720399, 0.65521981, 0.70028879],\n",
       "       [0.66309077, 0.65779389, 0.65564683, 0.70138927],\n",
       "       [0.66215788, 0.65682125, 0.65464387, 0.70121042],\n",
       "       [0.66132519, 0.6552673 , 0.65368862, 0.70091563],\n",
       "       [0.66140951, 0.65454371, 0.65335351, 0.70247471],\n",
       "       [0.65888004, 0.65151495, 0.65040764, 0.70059125],\n",
       "       [0.66144652, 0.65391811, 0.65260649, 0.70327336],\n",
       "       [0.6596198 , 0.65224098, 0.65069521, 0.7020014 ],\n",
       "       [0.66235345, 0.6550821 , 0.65353248, 0.70495955],\n",
       "       [0.66268774, 0.65528136, 0.65370128, 0.70540725],\n",
       "       [0.66339288, 0.65631997, 0.65493953, 0.70688415],\n",
       "       [0.6665745 , 0.65959166, 0.65827275, 0.71030387],\n",
       "       [0.66840454, 0.66128399, 0.65995505, 0.7122903 ],\n",
       "       [0.66591821, 0.6587243 , 0.65740131, 0.70994086],\n",
       "       [0.66292209, 0.65588408, 0.6547133 , 0.70735326],\n",
       "       [0.66110318, 0.6543735 , 0.65330805, 0.7064459 ],\n",
       "       [0.66018523, 0.65365663, 0.6523002 , 0.70669166],\n",
       "       [0.65723173, 0.65052942, 0.64906353, 0.70411868],\n",
       "       [0.65949471, 0.65250335, 0.65098736, 0.70651265],\n",
       "       [0.65941134, 0.65194773, 0.65038099, 0.70640622],\n",
       "       [0.66222456, 0.65457727, 0.65287296, 0.70924068],\n",
       "       [0.66372926, 0.65615982, 0.65415075, 0.71133108],\n",
       "       [0.66486636, 0.65734948, 0.65566717, 0.71392737],\n",
       "       [0.66248251, 0.65499567, 0.65339769, 0.71236306],\n",
       "       [0.66436609, 0.6569838 , 0.6555282 , 0.71477279],\n",
       "       [0.66554171, 0.65758068, 0.65653576, 0.71622271],\n",
       "       [0.66252094, 0.65448867, 0.65350316, 0.71329446],\n",
       "       [0.66041984, 0.65253554, 0.65136376, 0.71156936],\n",
       "       [0.65777638, 0.6497931 , 0.6485891 , 0.7091327 ],\n",
       "       [0.65647078, 0.64964526, 0.64837683, 0.70939192],\n",
       "       [0.65933144, 0.65270395, 0.65142165, 0.71256931],\n",
       "       [0.66229453, 0.65532548, 0.65421595, 0.7158668 ],\n",
       "       [0.66083099, 0.65368249, 0.65262591, 0.71484436],\n",
       "       [0.65771643, 0.65034927, 0.64930508, 0.71182088],\n",
       "       [0.65775695, 0.64919772, 0.64835726, 0.71124202],\n",
       "       [0.65876462, 0.64978228, 0.64876123, 0.71240952],\n",
       "       [0.66207195, 0.65301806, 0.65196728, 0.71576403],\n",
       "       [0.66096067, 0.651751  , 0.65062102, 0.71497038],\n",
       "       [0.65918025, 0.65037074, 0.64929692, 0.71401426],\n",
       "       [0.66133653, 0.65260047, 0.65155905, 0.71655325],\n",
       "       [0.65973151, 0.6508785 , 0.64997562, 0.71519243],\n",
       "       [0.65641683, 0.64756614, 0.64671464, 0.71219931],\n",
       "       [0.65748381, 0.64851478, 0.64765938, 0.71360443],\n",
       "       [0.6596718 , 0.6509662 , 0.64992498, 0.71631351],\n",
       "       [0.66331258, 0.65470007, 0.65359212, 0.72011739],\n",
       "       [0.66202913, 0.65358749, 0.65255852, 0.719246  ],\n",
       "       [0.65996057, 0.6517135 , 0.65071059, 0.71752615],\n",
       "       [0.65651988, 0.64830875, 0.64727235, 0.71426662],\n",
       "       [0.65666052, 0.64780969, 0.6466214 , 0.71449933],\n",
       "       [0.65931566, 0.65030893, 0.64900211, 0.71738232],\n",
       "       [0.66198352, 0.65193411, 0.65059764, 0.71975456],\n",
       "       [0.6625213 , 0.65286117, 0.65210389, 0.72154988],\n",
       "       [0.65951691, 0.64985476, 0.64917331, 0.71877484],\n",
       "       [0.65668207, 0.64706875, 0.64633959, 0.71626325],\n",
       "       [0.65913283, 0.64957875, 0.6488284 , 0.71892116],\n",
       "       [0.6617719 , 0.65177966, 0.65104401, 0.72141919],\n",
       "       [0.66122689, 0.65072034, 0.64994911, 0.72069877],\n",
       "       [0.6595692 , 0.64978991, 0.64913942, 0.72024555],\n",
       "       [0.65612235, 0.64648105, 0.64585533, 0.7170428 ]])"
      ]
     },
     "execution_count": 95,
     "metadata": {},
     "output_type": "execute_result"
    }
   ],
   "source": [
    "thetas_plot = np.array(thetas_it).reshape(-1,n)\n",
    "thetas_plot"
   ]
  },
  {
   "cell_type": "code",
   "execution_count": 96,
   "metadata": {},
   "outputs": [
    {
     "data": {
      "image/png": "[encoded data removed]",
      "text/plain": [
       "<Figure size 432x288 with 1 Axes>"
      ]
     },
     "metadata": {
      "needs_background": "light"
     },
     "output_type": "display_data"
    }
   ],
   "source": [
    "plt.plot(thetas_plot[:,0],cost_iter, 'b')\n",
    "plt.xlabel('Theta0')\n",
    "plt.ylabel('Loss')\n",
    "plt.show()"
   ]
  },
  {
   "cell_type": "code",
   "execution_count": 97,
   "metadata": {},
   "outputs": [
    {
     "data": {
      "image/png": "[encoded data removed]",
      "text/plain": [
       "<Figure size 432x288 with 1 Axes>"
      ]
     },
     "metadata": {
      "needs_background": "light"
     },
     "output_type": "display_data"
    }
   ],
   "source": [
    "plt.plot(thetas_plot[:,1],cost_iter, 'b')\n",
    "plt.xlabel('Theta1')\n",
    "plt.ylabel('Loss')\n",
    "plt.show()"
   ]
  },
  {
   "cell_type": "code",
   "execution_count": 98,
   "metadata": {},
   "outputs": [
    {
     "data": {
      "image/png": "[encoded data removed]",
      "text/plain": [
       "<Figure size 432x288 with 1 Axes>"
      ]
     },
     "metadata": {
      "needs_background": "light"
     },
     "output_type": "display_data"
    }
   ],
   "source": [
    "plt.plot(thetas_plot[:,2],cost_iter, 'b')\n",
    "plt.xlabel('Theta2')\n",
    "plt.ylabel('Loss')\n",
    "plt.show()"
   ]
  },
  {
   "cell_type": "code",
   "execution_count": 100,
   "metadata": {},
   "outputs": [
    {
     "data": {
      "image/png": "[encoded data removed]",
      "text/plain": [
       "<Figure size 432x288 with 1 Axes>"
      ]
     },
     "metadata": {
      "needs_background": "light"
     },
     "output_type": "display_data"
    }
   ],
   "source": [
    "plt.plot(thetas_plot[:,3],cost_iter, 'b')\n",
    "plt.xlabel('Theta3')\n",
    "plt.ylabel('Loss')\n",
    "plt.show()"
   ]
  },
  {
   "cell_type": "code",
   "execution_count": 101,
   "metadata": {},
   "outputs": [
    {
     "data": {
      "text/plain": [
       "array([[153.29587486],\n",
       "       [184.29910876],\n",
       "       [181.49962218],\n",
       "       [197.71640478],\n",
       "       [140.66868626],\n",
       "       [104.06631679],\n",
       "       [148.2689043 ],\n",
       "       [110.2311978 ],\n",
       "       [172.45639613],\n",
       "       [160.0377642 ],\n",
       "       [142.81731179],\n",
       "       [140.95155898],\n",
       "       [187.38601048],\n",
       "       [155.74067554],\n",
       "       [148.98657281],\n",
       "       [187.09609249],\n",
       "       [148.27970386],\n",
       "       [177.83304688],\n",
       "       [178.63082528],\n",
       "       [159.89993168],\n",
       "       [173.74497821],\n",
       "       [173.03043828],\n",
       "       [165.63627405],\n",
       "       [154.3047128 ],\n",
       "       [190.90191415]])"
      ]
     },
     "execution_count": 101,
     "metadata": {},
     "output_type": "execute_result"
    }
   ],
   "source": [
    "h_hat = X @ theta_opt\n",
    "h_hat"
   ]
  },
  {
   "cell_type": "code",
   "execution_count": 102,
   "metadata": {},
   "outputs": [
    {
     "data": {
      "text/plain": [
       "0.9797423799000771"
      ]
     },
     "execution_count": 102,
     "metadata": {},
     "output_type": "execute_result"
    }
   ],
   "source": [
    "from sklearn import metrics\n",
    "metrics.r2_score(Y,h_hat)"
   ]
  },
  {
   "cell_type": "markdown",
   "metadata": {},
   "source": [
    "### الْحَمْدُ لِلَّهِ حَمْدًا كَثِيرًا طَيِّبًا مُبَارَكًا فِيهِ"
   ]
  },
  {
   "cell_type": "code",
   "execution_count": null,
   "metadata": {},
   "outputs": [],
   "source": []
  }
 ],
 "metadata": {
  "colab": {
   "name": "NOFML&DS Final Practical Exam.ipynb",
   "provenance": []
  },
  "kernelspec": {
   "display_name": "Python 3",
   "language": "python",
   "name": "python3"
  },
  "language_info": {
   "codemirror_mode": {
    "name": "ipython",
    "version": 3
   },
   "file_extension": ".py",
   "mimetype": "text/x-python",
   "name": "python",
   "nbconvert_exporter": "python",
   "pygments_lexer": "ipython3",
   "version": "3.7.6"
  }
 },
 "nbformat": 4,
 "nbformat_minor": 5
}
